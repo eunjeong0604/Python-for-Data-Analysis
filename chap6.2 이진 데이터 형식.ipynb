{
 "cells": [
  {
   "cell_type": "code",
   "execution_count": 1,
   "metadata": {},
   "outputs": [],
   "source": [
    "##### 6.2 이진 데이터 형식 #####\n",
    "# 데이터를 효율적으로 저장하는 가장 쉬운 방법은 파이썬에 기본으로 내장된 pickle 직렬화를 사용해 이진 형식으로 저장하는 것이다.\n",
    "# pandas 객체는 모두 pickle을 이용해 데이터를 저장하는 to_pickle 메서드를 가지고 있다."
   ]
  },
  {
   "cell_type": "code",
   "execution_count": null,
   "metadata": {},
   "outputs": [],
   "source": []
  }
 ],
 "metadata": {
  "kernelspec": {
   "display_name": "Python 3",
   "language": "python",
   "name": "python3"
  },
  "language_info": {
   "codemirror_mode": {
    "name": "ipython",
    "version": 3
   },
   "file_extension": ".py",
   "mimetype": "text/x-python",
   "name": "python",
   "nbconvert_exporter": "python",
   "pygments_lexer": "ipython3",
   "version": "3.7.4"
  }
 },
 "nbformat": 4,
 "nbformat_minor": 2
}
